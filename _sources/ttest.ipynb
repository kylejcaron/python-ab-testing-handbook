{
 "cells": [
  {
   "cell_type": "code",
   "execution_count": 1,
   "id": "1a042ac4",
   "metadata": {},
   "outputs": [],
   "source": [
    "import numpy as np\n",
    "import pandas as pd\n",
    "import matplotlib.pyplot as plt\n",
    "import seaborn as sns\n",
    "import scipy.stats as stats\n",
    "import statsmodels.api as sm"
   ]
  },
  {
   "cell_type": "markdown",
   "id": "3ce1c552",
   "metadata": {},
   "source": [
    "# Statistics Terminology \n",
    "\n"
   ]
  },
  {
   "cell_type": "code",
   "execution_count": null,
   "id": "76398d02",
   "metadata": {},
   "outputs": [],
   "source": []
  },
  {
   "cell_type": "markdown",
   "id": "fcadaba7",
   "metadata": {},
   "source": [
    "# The Student's T-Test\n",
    "\n",
    "The t-test is a statistical test commonly used for comparing the means of 2 different groups"
   ]
  },
  {
   "cell_type": "code",
   "execution_count": 2,
   "id": "ec5a5b70",
   "metadata": {},
   "outputs": [],
   "source": [
    "import pymc3 as pm"
   ]
  },
  {
   "cell_type": "code",
   "execution_count": 20,
   "id": "1b9551b0",
   "metadata": {},
   "outputs": [],
   "source": [
    "# for i, nu in enumerate([3, 5, 10, 15, 30, 100]):\n",
    "    \n",
    "#     dist = pm.StudentT.dist(mu=5, sigma=5, nu=nu).random(size=10000)\n",
    "#     dist2 = pm.Normal.dist(mu=5, sigma=5).random(size=10000)\n",
    "\n",
    "#     sns.histplot( dist, color=f\"C{i}\", alpha=0.25, element=\"step\" )\n",
    "#     sns.histplot( dist2, color=f\"C{i+1}\", alpha=0.25, element=\"step\" )\n",
    "\n",
    "#     plt.show()"
   ]
  },
  {
   "cell_type": "code",
   "execution_count": 29,
   "id": "04d1c965",
   "metadata": {},
   "outputs": [],
   "source": [
    "Xn = np.random.normal(0, 3, size=(100, 30))"
   ]
  },
  {
   "cell_type": "code",
   "execution_count": 38,
   "id": "bf78503b",
   "metadata": {},
   "outputs": [
    {
     "data": {
      "text/plain": [
       "<AxesSubplot:ylabel='Count'>"
      ]
     },
     "execution_count": 38,
     "metadata": {},
     "output_type": "execute_result"
    },
    {
     "data": {
      "image/png": "[encoded data removed]",
      "text/plain": [
       "<Figure size 432x288 with 1 Axes>"
      ]
     },
     "metadata": {
      "needs_background": "light"
     },
     "output_type": "display_data"
    }
   ],
   "source": [
    "Xbar = Xn.mean(1)\n",
    "sns.histplot( Xbar )\n"
   ]
  },
  {
   "cell_type": "code",
   "execution_count": 51,
   "id": "efd8a2aa",
   "metadata": {},
   "outputs": [
    {
     "data": {
      "text/plain": [
       "<AxesSubplot:ylabel='Count'>"
      ]
     },
     "execution_count": 51,
     "metadata": {},
     "output_type": "execute_result"
    },
    {
     "data": {
      "image/png": "[encoded data removed]",
      "text/plain": [
       "<Figure size 432x288 with 1 Axes>"
      ]
     },
     "metadata": {
      "needs_background": "light"
     },
     "output_type": "display_data"
    }
   ],
   "source": [
    "n = Xn.shape[1]\n",
    "S2 = (1/(n-1))*((Xn - Xbar[:,None])**2).sum(1)\n",
    "sns.histplot( S2 )"
   ]
  },
  {
   "cell_type": "code",
   "execution_count": 57,
   "id": "02e574cb",
   "metadata": {},
   "outputs": [],
   "source": [
    "s2 = Xn.var(1)\n",
    "V = (n - 1) * S2/9"
   ]
  },
  {
   "cell_type": "code",
   "execution_count": 59,
   "id": "31bdb325",
   "metadata": {},
   "outputs": [
    {
     "data": {
      "text/plain": [
       "<AxesSubplot:ylabel='Count'>"
      ]
     },
     "execution_count": 59,
     "metadata": {},
     "output_type": "execute_result"
    },
    {
     "data": {
      "image/png": "[encoded data removed]",
      "text/plain": [
       "<Figure size 432x288 with 1 Axes>"
      ]
     },
     "metadata": {
      "needs_background": "light"
     },
     "output_type": "display_data"
    }
   ],
   "source": [
    "sns.histplot( V )"
   ]
  },
  {
   "cell_type": "code",
   "execution_count": 61,
   "id": "8113c794",
   "metadata": {},
   "outputs": [
    {
     "data": {
      "text/plain": [
       "<AxesSubplot:ylabel='Count'>"
      ]
     },
     "execution_count": 61,
     "metadata": {},
     "output_type": "execute_result"
    },
    {
     "data": {
      "image/png": "[encoded data removed]",
      "text/plain": [
       "<Figure size 432x288 with 1 Axes>"
      ]
     },
     "metadata": {
      "needs_background": "light"
     },
     "output_type": "display_data"
    }
   ],
   "source": [
    "sns.histplot( S2/9 )"
   ]
  },
  {
   "cell_type": "code",
   "execution_count": null,
   "id": "774ecaf9",
   "metadata": {},
   "outputs": [],
   "source": []
  }
 ],
 "metadata": {
  "kernelspec": {
   "display_name": "Python 3 (ipykernel)",
   "language": "python",
   "name": "python3"
  },
  "language_info": {
   "codemirror_mode": {
    "name": "ipython",
    "version": 3
   },
   "file_extension": ".py",
   "mimetype": "text/x-python",
   "name": "python",
   "nbconvert_exporter": "python",
   "pygments_lexer": "ipython3",
   "version": "3.9.7"
  }
 },
 "nbformat": 4,
 "nbformat_minor": 5
}
