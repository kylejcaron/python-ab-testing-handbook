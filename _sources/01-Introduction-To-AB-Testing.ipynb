{
 "cells": [
  {
   "cell_type": "markdown",
   "id": "a8011b37",
   "metadata": {},
   "source": [
    "# 01 - Introduction To A/B Testing\n",
    "---"
   ]
  },
  {
   "cell_type": "markdown",
   "id": "1be7f7ee",
   "metadata": {},
   "source": [
    "# Introduction\n",
    "\n",
    "A/B Testing is all the rage these days. With companies interested in optimizing their business, and employees interested in proving the value of their work, A/B testing has become a mainstream tool. But that doesnt mean everyone is using this tool properly.\n",
    "\n",
    "A/B tests can have alot of nuance, and decisions such as how long should an experiment run for, or how to make decisions with observed experiment data can be more complicated than many assume.\n",
    "\n",
    "This open-source resource is meant to help practitioners feel more confident working with stakeholders, designing experiments, and interpreting results\n",
    "\n",
    "# Introduction to A/B Testing\n",
    "\n",
    "For businesses, A/B testing is a system to figure out which version of an experience is best for customers. It's used to answer questions such as \"What will help to make people buy our product or subscribe to our service?\".\n",
    "\n",
    "One example might be an e-commerce company testing out a new checkout webpage with the hope that it improves conversion rate, and therefore revenue. \n",
    "\n",
    "Another example might be a subscription streaming service testing out whether they should release new episodes of a TV show all at once, or release 1 episode per week, to see which options keep customers subscribed for longer.\n",
    "\n",
    "An A/B test for the former example would be allocating a random 50% of your customer-base to see the current checkout page (group A), while the other 50% of customers are exposed to the proposed new checkout page (group B). The comparison between group A and group B is where the name A/B testing comes from - and we use statistical methods to identify if there's truly a change from the __control__ (group A), or if the difference between the 2 groups is just random noise.\n",
    "\n",
    "\n",
    "# Why do we need A/B Tests?\n",
    "\n",
    "Many might wonder, \"why cant we just make a change for all of our customers and see if our metrics go up or down afterwards?\" __The short answer is that you'll most likely have no idea if the new change is actually better.__ While it feels intuitive to check see how far a metric moved before and after a product change, there are many reasons why it's destined to fail as a strategy in the long run. \n",
    "\n",
    "The most common problem is __external factors__ that occur at similiar times - it's really common to see an increase or decrease in trend around the time of your intervention that had nothing to do with it.\n",
    "\n",
    "<br>\n",
    "\n",
    "![co_interventions.png](data/img/ch1/co_interventions.png)\n",
    "\n",
    "<br>\n",
    "\n",
    "We simply don't know what other external factors independent of the product change might have contributed to a change in the metric - maybe its seasonality, maybe its a recent change in marketing spend, maybe the company recently went viral, maybe spam bots finally found their way to the website and are clicking their way through it, who knows. The point is, this is common, and it can even hide negative effects of a product change and open the business up to unintended risks\n",
    "\n",
    "This get's even harder with __co-interventions__. Modern businesses want to test many product changes all at once, but once they start launching many product changes, how would they know which ones contributed to positive changes and which ones contributed to negative changes? A/B testing provides a system where we can safely make product changes that have positive effects, and mitigate product changes that have negative effects.\n",
    "\n",
    "The last point I'll make about A/B testing is an empirical one. __Microsoft reported only about one-third of their A/B tests lead to successful positive outcomes[<sup>1</sup>](#fn1).__ Imagine if they weren't using A/B tests and just rolled out all of these ideas as product changes - only a third of those changes would have lead to noticeable positive improvements, and they'd have little idea of which ones improved the business and which ones hurt the business. Most likely, their business would be far worse off without these experiments."
   ]
  },
  {
   "cell_type": "markdown",
   "id": "764af1b7",
   "metadata": {},
   "source": [
    "<br>\n",
    "\n",
    "---\n",
    "\n",
    "# Footnotes\n",
    "\n",
    "1. <span id=\"fn1\"> https://ai.stanford.edu/~ronnyk/ExPThinkWeek2009Public.pdf </span>\n",
    "\n",
    "\n"
   ]
  },
  {
   "cell_type": "code",
   "execution_count": null,
   "id": "c9d67b37",
   "metadata": {},
   "outputs": [],
   "source": []
  }
 ],
 "metadata": {
  "kernelspec": {
   "display_name": "Python 3 (ipykernel)",
   "language": "python",
   "name": "python3"
  },
  "language_info": {
   "codemirror_mode": {
    "name": "ipython",
    "version": 3
   },
   "file_extension": ".py",
   "mimetype": "text/x-python",
   "name": "python",
   "nbconvert_exporter": "python",
   "pygments_lexer": "ipython3",
   "version": "3.9.7"
  }
 },
 "nbformat": 4,
 "nbformat_minor": 5
}
